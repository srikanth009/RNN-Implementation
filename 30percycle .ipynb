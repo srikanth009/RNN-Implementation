{
 "cells": [
  {
   "cell_type": "code",
   "execution_count": 1,
   "metadata": {},
   "outputs": [],
   "source": [
    "import glob \n",
    "import pandas as pd\n",
    "import seaborn as sns\n",
    "import matplotlib.pyplot as plt\n",
    "import math\n",
    "from sklearn.preprocessing import MinMaxScaler\n",
    "import numpy as np"
   ]
  },
  {
   "cell_type": "code",
   "execution_count": 2,
   "metadata": {},
   "outputs": [],
   "source": [
    "files=glob.glob('*.xlsx')"
   ]
  },
  {
   "cell_type": "code",
   "execution_count": 3,
   "metadata": {},
   "outputs": [
    {
     "data": {
      "text/plain": [
       "['train_2001.xlsx',\n",
       " 'train_2005.xlsx',\n",
       " 'train_1998.xlsx',\n",
       " 'train_2009.xlsx',\n",
       " 'train_2014.xlsx',\n",
       " 'train_1997.xlsx',\n",
       " 'train_2015.xlsx',\n",
       " 'train_2016.xlsx',\n",
       " 'train_1995.xlsx',\n",
       " 'train_2013.xlsx',\n",
       " 'train_2000.xlsx',\n",
       " 'train_2002.xlsx',\n",
       " 'train_2011.xlsx',\n",
       " 'train_2003.xlsx',\n",
       " 'train_2007.xlsx',\n",
       " 'train_1996.xlsx',\n",
       " 'train_2008.xlsx',\n",
       " 'train_2006.xlsx',\n",
       " 'train_2012.xlsx',\n",
       " 'train_1999.xlsx',\n",
       " 'train_2004.xlsx',\n",
       " 'train_2010.xlsx']"
      ]
     },
     "execution_count": 3,
     "metadata": {},
     "output_type": "execute_result"
    }
   ],
   "source": [
    "files"
   ]
  },
  {
   "cell_type": "code",
   "execution_count": 4,
   "metadata": {},
   "outputs": [],
   "source": [
    "year=[]\n",
    "for i in range(len(files)):\n",
    "    year.append(int(files[i].split('.')[0].split('_')[1]))"
   ]
  },
  {
   "cell_type": "code",
   "execution_count": 5,
   "metadata": {},
   "outputs": [],
   "source": [
    "files=[x for _,x in sorted(zip(year,files))]"
   ]
  },
  {
   "cell_type": "code",
   "execution_count": 6,
   "metadata": {},
   "outputs": [],
   "source": [
    "df=[]\n",
    "for i in range(len(files)):\n",
    "    df.append(pd.read_excel(files[i]))"
   ]
  },
  {
   "cell_type": "code",
   "execution_count": 7,
   "metadata": {},
   "outputs": [
    {
     "name": "stdout",
     "output_type": "stream",
     "text": [
      "Index(['HQ', 'Country', 'State_of_outlet', 'City_of_outlet', 'Month', 'Day',\n",
      "       'Year', 'Total_Sales'],\n",
      "      dtype='object')\n",
      "Index(['HQ', 'Country', 'State_of_outlet', 'City_of_outlet', 'Month', 'Day',\n",
      "       'Year', 'Total_Sales'],\n",
      "      dtype='object')\n",
      "Index(['HQ', 'Country', 'State_of_outlet', 'City_of_outlet', 'Month', 'Day',\n",
      "       'Year', 'Total_Sales'],\n",
      "      dtype='object')\n",
      "Index(['HQ', 'Country', 'State_of_outlet', 'City_of_outlet', 'Month', 'Day',\n",
      "       'Year', 'Total_Sales'],\n",
      "      dtype='object')\n",
      "Index(['HQ', 'Country', 'State_of_outlet', 'City_of_outlet', 'Month', 'Day',\n",
      "       'Year', 'Total_Sales'],\n",
      "      dtype='object')\n",
      "Index(['HQ', 'Country', 'State_of_outlet', 'City_of_outlet', 'Month', 'Day',\n",
      "       'Year', 'Total_Sales'],\n",
      "      dtype='object')\n",
      "Index(['HQ', 'Country', 'State_of_outlet', 'City_of_outlet', 'Month', 'Day',\n",
      "       'Year', 'Total_Sales'],\n",
      "      dtype='object')\n",
      "Index(['HQ', 'Country', 'State_of_outlet', 'City_of_outlet', 'Month', 'Day',\n",
      "       'Year', 'Total_Sales'],\n",
      "      dtype='object')\n",
      "Index(['HQ', 'Country', 'State_of_outlet', 'City_of_outlet', 'Month', 'Day',\n",
      "       'Year', 'Total_Sales'],\n",
      "      dtype='object')\n",
      "Index(['HQ', 'Country', 'State_of_outlet', 'City_of_outlet', 'Month', 'Day',\n",
      "       'Year', 'Total_Sales'],\n",
      "      dtype='object')\n",
      "Index(['HQ', 'Country', 'State_of_outlet', 'City_of_outlet', 'Month', 'Day',\n",
      "       'Year', 'Total_Sales'],\n",
      "      dtype='object')\n",
      "Index(['HQ', 'Country', 'State_of_outlet', 'City_of_outlet', 'Month', 'Day',\n",
      "       'Year', 'Total_Sales'],\n",
      "      dtype='object')\n",
      "Index(['HQ', 'Country', 'State_of_outlet', 'City_of_outlet', 'Month', 'Day',\n",
      "       'Year', 'Total_Sales'],\n",
      "      dtype='object')\n",
      "Index(['HQ', 'Country', 'State_of_outlet', 'City_of_outlet', 'Month', 'Day',\n",
      "       'Year', 'Total_Sales'],\n",
      "      dtype='object')\n",
      "Index(['HQ', 'Country', 'State_of_outlet', 'City_of_outlet', 'Month', 'Day',\n",
      "       'Year', 'Total_Sales'],\n",
      "      dtype='object')\n",
      "Index(['HQ', 'Country', 'State_of_outlet', 'City_of_outlet', 'Month', 'Day',\n",
      "       'Year', 'Total_Sales'],\n",
      "      dtype='object')\n",
      "Index(['HQ', 'Country', 'State_of_outlet', 'City_of_outlet', 'Month', 'Day',\n",
      "       'Year', 'Total_Sales'],\n",
      "      dtype='object')\n",
      "Index(['HQ', 'Country', 'State_of_outlet', 'City_of_outlet', 'Month', 'Day',\n",
      "       'Year', 'Total_Sales'],\n",
      "      dtype='object')\n",
      "Index(['HQ', 'Country', 'State_of_outlet', 'City_of_outlet', 'Month', 'Day',\n",
      "       'Year', 'Total_Sales'],\n",
      "      dtype='object')\n",
      "Index(['HQ', 'Country', 'State_of_outlet', 'City_of_outlet', 'Month', 'Day',\n",
      "       'Year', 'Total_Sales'],\n",
      "      dtype='object')\n",
      "Index(['HQ', 'Country', 'State_of_outlet', 'City_of_outlet', 'Month', 'Day',\n",
      "       'Year', 'Total_Sales'],\n",
      "      dtype='object')\n",
      "Index(['HQ', 'Country', 'State_of_outlet', 'City_of_outlet', 'Month', 'Day',\n",
      "       'Year', 'Total_Sales'],\n",
      "      dtype='object')\n"
     ]
    }
   ],
   "source": [
    "for i in range(len(df)):\n",
    "    print(df[i].columns)"
   ]
  },
  {
   "cell_type": "code",
   "execution_count": 8,
   "metadata": {},
   "outputs": [],
   "source": [
    "df1=pd.concat(df)"
   ]
  },
  {
   "cell_type": "code",
   "execution_count": 9,
   "metadata": {},
   "outputs": [
    {
     "data": {
      "text/html": [
       "<div>\n",
       "<style scoped>\n",
       "    .dataframe tbody tr th:only-of-type {\n",
       "        vertical-align: middle;\n",
       "    }\n",
       "\n",
       "    .dataframe tbody tr th {\n",
       "        vertical-align: top;\n",
       "    }\n",
       "\n",
       "    .dataframe thead th {\n",
       "        text-align: right;\n",
       "    }\n",
       "</style>\n",
       "<table border=\"1\" class=\"dataframe\">\n",
       "  <thead>\n",
       "    <tr style=\"text-align: right;\">\n",
       "      <th></th>\n",
       "      <th>HQ</th>\n",
       "      <th>Country</th>\n",
       "      <th>State_of_outlet</th>\n",
       "      <th>City_of_outlet</th>\n",
       "      <th>Month</th>\n",
       "      <th>Day</th>\n",
       "      <th>Year</th>\n",
       "      <th>Total_Sales</th>\n",
       "    </tr>\n",
       "  </thead>\n",
       "  <tbody>\n",
       "    <tr>\n",
       "      <th>0</th>\n",
       "      <td>Africa</td>\n",
       "      <td>Algeria</td>\n",
       "      <td>NaN</td>\n",
       "      <td>Algiers</td>\n",
       "      <td>1</td>\n",
       "      <td>1</td>\n",
       "      <td>1995</td>\n",
       "      <td>64.2</td>\n",
       "    </tr>\n",
       "    <tr>\n",
       "      <th>1</th>\n",
       "      <td>Africa</td>\n",
       "      <td>Algeria</td>\n",
       "      <td>NaN</td>\n",
       "      <td>Algiers</td>\n",
       "      <td>1</td>\n",
       "      <td>2</td>\n",
       "      <td>1995</td>\n",
       "      <td>49.4</td>\n",
       "    </tr>\n",
       "    <tr>\n",
       "      <th>2</th>\n",
       "      <td>Africa</td>\n",
       "      <td>Algeria</td>\n",
       "      <td>NaN</td>\n",
       "      <td>Algiers</td>\n",
       "      <td>1</td>\n",
       "      <td>3</td>\n",
       "      <td>1995</td>\n",
       "      <td>48.8</td>\n",
       "    </tr>\n",
       "    <tr>\n",
       "      <th>3</th>\n",
       "      <td>Africa</td>\n",
       "      <td>Algeria</td>\n",
       "      <td>NaN</td>\n",
       "      <td>Algiers</td>\n",
       "      <td>1</td>\n",
       "      <td>4</td>\n",
       "      <td>1995</td>\n",
       "      <td>46.4</td>\n",
       "    </tr>\n",
       "    <tr>\n",
       "      <th>4</th>\n",
       "      <td>Africa</td>\n",
       "      <td>Algeria</td>\n",
       "      <td>NaN</td>\n",
       "      <td>Algiers</td>\n",
       "      <td>1</td>\n",
       "      <td>5</td>\n",
       "      <td>1995</td>\n",
       "      <td>47.9</td>\n",
       "    </tr>\n",
       "    <tr>\n",
       "      <th>...</th>\n",
       "      <td>...</td>\n",
       "      <td>...</td>\n",
       "      <td>...</td>\n",
       "      <td>...</td>\n",
       "      <td>...</td>\n",
       "      <td>...</td>\n",
       "      <td>...</td>\n",
       "      <td>...</td>\n",
       "    </tr>\n",
       "    <tr>\n",
       "      <th>107232</th>\n",
       "      <td>North America</td>\n",
       "      <td>US</td>\n",
       "      <td>Wyoming</td>\n",
       "      <td>Cheyenne</td>\n",
       "      <td>12</td>\n",
       "      <td>27</td>\n",
       "      <td>2016</td>\n",
       "      <td>32.1</td>\n",
       "    </tr>\n",
       "    <tr>\n",
       "      <th>107233</th>\n",
       "      <td>North America</td>\n",
       "      <td>US</td>\n",
       "      <td>Wyoming</td>\n",
       "      <td>Cheyenne</td>\n",
       "      <td>12</td>\n",
       "      <td>28</td>\n",
       "      <td>2016</td>\n",
       "      <td>35.1</td>\n",
       "    </tr>\n",
       "    <tr>\n",
       "      <th>107234</th>\n",
       "      <td>North America</td>\n",
       "      <td>US</td>\n",
       "      <td>Wyoming</td>\n",
       "      <td>Cheyenne</td>\n",
       "      <td>12</td>\n",
       "      <td>29</td>\n",
       "      <td>2016</td>\n",
       "      <td>26.2</td>\n",
       "    </tr>\n",
       "    <tr>\n",
       "      <th>107235</th>\n",
       "      <td>North America</td>\n",
       "      <td>US</td>\n",
       "      <td>Wyoming</td>\n",
       "      <td>Cheyenne</td>\n",
       "      <td>12</td>\n",
       "      <td>30</td>\n",
       "      <td>2016</td>\n",
       "      <td>41.9</td>\n",
       "    </tr>\n",
       "    <tr>\n",
       "      <th>107236</th>\n",
       "      <td>North America</td>\n",
       "      <td>US</td>\n",
       "      <td>Wyoming</td>\n",
       "      <td>Cheyenne</td>\n",
       "      <td>12</td>\n",
       "      <td>31</td>\n",
       "      <td>2016</td>\n",
       "      <td>28.8</td>\n",
       "    </tr>\n",
       "  </tbody>\n",
       "</table>\n",
       "<p>2547096 rows × 8 columns</p>\n",
       "</div>"
      ],
      "text/plain": [
       "                   HQ  Country State_of_outlet City_of_outlet  Month  Day  \\\n",
       "0              Africa  Algeria             NaN        Algiers      1    1   \n",
       "1              Africa  Algeria             NaN        Algiers      1    2   \n",
       "2              Africa  Algeria             NaN        Algiers      1    3   \n",
       "3              Africa  Algeria             NaN        Algiers      1    4   \n",
       "4              Africa  Algeria             NaN        Algiers      1    5   \n",
       "...               ...      ...             ...            ...    ...  ...   \n",
       "107232  North America       US         Wyoming       Cheyenne     12   27   \n",
       "107233  North America       US         Wyoming       Cheyenne     12   28   \n",
       "107234  North America       US         Wyoming       Cheyenne     12   29   \n",
       "107235  North America       US         Wyoming       Cheyenne     12   30   \n",
       "107236  North America       US         Wyoming       Cheyenne     12   31   \n",
       "\n",
       "        Year  Total_Sales  \n",
       "0       1995         64.2  \n",
       "1       1995         49.4  \n",
       "2       1995         48.8  \n",
       "3       1995         46.4  \n",
       "4       1995         47.9  \n",
       "...      ...          ...  \n",
       "107232  2016         32.1  \n",
       "107233  2016         35.1  \n",
       "107234  2016         26.2  \n",
       "107235  2016         41.9  \n",
       "107236  2016         28.8  \n",
       "\n",
       "[2547096 rows x 8 columns]"
      ]
     },
     "execution_count": 9,
     "metadata": {},
     "output_type": "execute_result"
    }
   ],
   "source": [
    "df1"
   ]
  },
  {
   "cell_type": "code",
   "execution_count": 10,
   "metadata": {},
   "outputs": [
    {
     "data": {
      "text/plain": [
       "Index(['HQ', 'Country', 'State_of_outlet', 'City_of_outlet', 'Month', 'Day',\n",
       "       'Year', 'Total_Sales'],\n",
       "      dtype='object')"
      ]
     },
     "execution_count": 10,
     "metadata": {},
     "output_type": "execute_result"
    }
   ],
   "source": [
    "df1.columns"
   ]
  },
  {
   "cell_type": "code",
   "execution_count": 11,
   "metadata": {},
   "outputs": [
    {
     "data": {
      "text/html": [
       "<div>\n",
       "<style scoped>\n",
       "    .dataframe tbody tr th:only-of-type {\n",
       "        vertical-align: middle;\n",
       "    }\n",
       "\n",
       "    .dataframe tbody tr th {\n",
       "        vertical-align: top;\n",
       "    }\n",
       "\n",
       "    .dataframe thead th {\n",
       "        text-align: right;\n",
       "    }\n",
       "</style>\n",
       "<table border=\"1\" class=\"dataframe\">\n",
       "  <thead>\n",
       "    <tr style=\"text-align: right;\">\n",
       "      <th></th>\n",
       "      <th>Month</th>\n",
       "      <th>Day</th>\n",
       "      <th>Year</th>\n",
       "      <th>Total_Sales</th>\n",
       "    </tr>\n",
       "  </thead>\n",
       "  <tbody>\n",
       "    <tr>\n",
       "      <th>count</th>\n",
       "      <td>2.547096e+06</td>\n",
       "      <td>2.547096e+06</td>\n",
       "      <td>2.547096e+06</td>\n",
       "      <td>2.547096e+06</td>\n",
       "    </tr>\n",
       "    <tr>\n",
       "      <th>mean</th>\n",
       "      <td>6.518485e+00</td>\n",
       "      <td>1.573025e+01</td>\n",
       "      <td>2.005303e+03</td>\n",
       "      <td>5.556492e+01</td>\n",
       "    </tr>\n",
       "    <tr>\n",
       "      <th>std</th>\n",
       "      <td>3.448623e+00</td>\n",
       "      <td>8.800736e+00</td>\n",
       "      <td>6.301277e+00</td>\n",
       "      <td>3.305619e+01</td>\n",
       "    </tr>\n",
       "    <tr>\n",
       "      <th>min</th>\n",
       "      <td>1.000000e+00</td>\n",
       "      <td>0.000000e+00</td>\n",
       "      <td>1.995000e+03</td>\n",
       "      <td>-9.900000e+01</td>\n",
       "    </tr>\n",
       "    <tr>\n",
       "      <th>25%</th>\n",
       "      <td>4.000000e+00</td>\n",
       "      <td>8.000000e+00</td>\n",
       "      <td>2.000000e+03</td>\n",
       "      <td>4.570000e+01</td>\n",
       "    </tr>\n",
       "    <tr>\n",
       "      <th>50%</th>\n",
       "      <td>7.000000e+00</td>\n",
       "      <td>1.600000e+01</td>\n",
       "      <td>2.005000e+03</td>\n",
       "      <td>6.240000e+01</td>\n",
       "    </tr>\n",
       "    <tr>\n",
       "      <th>75%</th>\n",
       "      <td>1.000000e+01</td>\n",
       "      <td>2.300000e+01</td>\n",
       "      <td>2.011000e+03</td>\n",
       "      <td>7.540000e+01</td>\n",
       "    </tr>\n",
       "    <tr>\n",
       "      <th>max</th>\n",
       "      <td>1.200000e+01</td>\n",
       "      <td>3.100000e+01</td>\n",
       "      <td>2.016000e+03</td>\n",
       "      <td>1.100000e+02</td>\n",
       "    </tr>\n",
       "  </tbody>\n",
       "</table>\n",
       "</div>"
      ],
      "text/plain": [
       "              Month           Day          Year   Total_Sales\n",
       "count  2.547096e+06  2.547096e+06  2.547096e+06  2.547096e+06\n",
       "mean   6.518485e+00  1.573025e+01  2.005303e+03  5.556492e+01\n",
       "std    3.448623e+00  8.800736e+00  6.301277e+00  3.305619e+01\n",
       "min    1.000000e+00  0.000000e+00  1.995000e+03 -9.900000e+01\n",
       "25%    4.000000e+00  8.000000e+00  2.000000e+03  4.570000e+01\n",
       "50%    7.000000e+00  1.600000e+01  2.005000e+03  6.240000e+01\n",
       "75%    1.000000e+01  2.300000e+01  2.011000e+03  7.540000e+01\n",
       "max    1.200000e+01  3.100000e+01  2.016000e+03  1.100000e+02"
      ]
     },
     "execution_count": 11,
     "metadata": {},
     "output_type": "execute_result"
    }
   ],
   "source": [
    "df1.describe()"
   ]
  },
  {
   "cell_type": "code",
   "execution_count": 12,
   "metadata": {},
   "outputs": [
    {
     "name": "stderr",
     "output_type": "stream",
     "text": [
      "/home/god/anaconda3/lib/python3.7/site-packages/seaborn/_decorators.py:43: FutureWarning: Pass the following variable as a keyword arg: x. From version 0.12, the only valid positional argument will be `data`, and passing other arguments without an explicit keyword will result in an error or misinterpretation.\n",
      "  FutureWarning\n"
     ]
    },
    {
     "data": {
      "text/plain": [
       "<matplotlib.axes._subplots.AxesSubplot at 0x7f65af27f690>"
      ]
     },
     "execution_count": 12,
     "metadata": {},
     "output_type": "execute_result"
    },
    {
     "data": {
      "image/png": "[encoded data removed]",
      "text/plain": [
       "<Figure size 432x288 with 1 Axes>"
      ]
     },
     "metadata": {
      "needs_background": "light"
     },
     "output_type": "display_data"
    }
   ],
   "source": [
    "sns.countplot(df1['HQ'])"
   ]
  },
  {
   "cell_type": "code",
   "execution_count": 13,
   "metadata": {},
   "outputs": [
    {
     "name": "stderr",
     "output_type": "stream",
     "text": [
      "/home/god/anaconda3/lib/python3.7/site-packages/seaborn/_decorators.py:43: FutureWarning: Pass the following variable as a keyword arg: x. From version 0.12, the only valid positional argument will be `data`, and passing other arguments without an explicit keyword will result in an error or misinterpretation.\n",
      "  FutureWarning\n"
     ]
    },
    {
     "data": {
      "text/plain": [
       "<matplotlib.axes._subplots.AxesSubplot at 0x7f65af294450>"
      ]
     },
     "execution_count": 13,
     "metadata": {},
     "output_type": "execute_result"
    },
    {
     "data": {
      "image/png": "[encoded data removed]",
      "text/plain": [
       "<Figure size 432x288 with 1 Axes>"
      ]
     },
     "metadata": {
      "needs_background": "light"
     },
     "output_type": "display_data"
    }
   ],
   "source": [
    "sns.countplot(df1['Month'])"
   ]
  },
  {
   "cell_type": "code",
   "execution_count": 14,
   "metadata": {},
   "outputs": [
    {
     "name": "stderr",
     "output_type": "stream",
     "text": [
      "/home/god/anaconda3/lib/python3.7/site-packages/seaborn/_decorators.py:43: FutureWarning: Pass the following variable as a keyword arg: x. From version 0.12, the only valid positional argument will be `data`, and passing other arguments without an explicit keyword will result in an error or misinterpretation.\n",
      "  FutureWarning\n"
     ]
    },
    {
     "data": {
      "text/plain": [
       "<matplotlib.axes._subplots.AxesSubplot at 0x7f65ab8fe790>"
      ]
     },
     "execution_count": 14,
     "metadata": {},
     "output_type": "execute_result"
    },
    {
     "data": {
      "image/png": "[encoded data removed]",
      "text/plain": [
       "<Figure size 432x288 with 1 Axes>"
      ]
     },
     "metadata": {
      "needs_background": "light"
     },
     "output_type": "display_data"
    }
   ],
   "source": [
    "sns.countplot(df1['Day'])"
   ]
  },
  {
   "cell_type": "code",
   "execution_count": 15,
   "metadata": {},
   "outputs": [
    {
     "data": {
      "text/plain": [
       "([<matplotlib.axis.XTick at 0x7f65ac6e86d0>,\n",
       "  <matplotlib.axis.XTick at 0x7f65ac6e8810>,\n",
       "  <matplotlib.axis.XTick at 0x7f65ab802dd0>,\n",
       "  <matplotlib.axis.XTick at 0x7f65ad33c810>,\n",
       "  <matplotlib.axis.XTick at 0x7f65ac5b4150>,\n",
       "  <matplotlib.axis.XTick at 0x7f65ac5b4890>,\n",
       "  <matplotlib.axis.XTick at 0x7f65abca7fd0>,\n",
       "  <matplotlib.axis.XTick at 0x7f65ac5b4510>],\n",
       " <a list of 8 Text major ticklabel objects>)"
      ]
     },
     "execution_count": 15,
     "metadata": {},
     "output_type": "execute_result"
    },
    {
     "data": {
      "image/png": "[encoded data removed]",
      "text/plain": [
       "<Figure size 432x288 with 1 Axes>"
      ]
     },
     "metadata": {
      "needs_background": "light"
     },
     "output_type": "display_data"
    }
   ],
   "source": [
    "plt.hist(df1['Year'])\n",
    "plt.xticks(range(1995,2017,3))"
   ]
  },
  {
   "cell_type": "code",
   "execution_count": 16,
   "metadata": {},
   "outputs": [
    {
     "name": "stderr",
     "output_type": "stream",
     "text": [
      "/home/god/anaconda3/lib/python3.7/site-packages/seaborn/_decorators.py:43: FutureWarning: Pass the following variable as a keyword arg: x. From version 0.12, the only valid positional argument will be `data`, and passing other arguments without an explicit keyword will result in an error or misinterpretation.\n",
      "  FutureWarning\n"
     ]
    },
    {
     "data": {
      "text/plain": [
       "<matplotlib.axes._subplots.AxesSubplot at 0x7f65ac436410>"
      ]
     },
     "execution_count": 16,
     "metadata": {},
     "output_type": "execute_result"
    },
    {
     "data": {
      "image/png": "[encoded data removed]",
      "text/plain": [
       "<Figure size 432x288 with 1 Axes>"
      ]
     },
     "metadata": {
      "needs_background": "light"
     },
     "output_type": "display_data"
    }
   ],
   "source": [
    "sns.boxplot(df1['Total_Sales'])"
   ]
  },
  {
   "cell_type": "code",
   "execution_count": 17,
   "metadata": {},
   "outputs": [
    {
     "data": {
      "text/plain": [
       "Texas                     112505\n",
       "Ohio                       56252\n",
       "Florida                    53967\n",
       "Pennsylvania               45931\n",
       "New York                   40180\n",
       "California                 40180\n",
       "Michigan                   40180\n",
       "Indiana                    32144\n",
       "Alabama                    32144\n",
       "Colorado                   32144\n",
       "Illinois                   32144\n",
       "Georgia                    32144\n",
       "Oregon                     32144\n",
       "North Carolina             32144\n",
       "Tennessee                  32144\n",
       "Louisiana                  29906\n",
       "Nebraska                   24108\n",
       "Washington                 24108\n",
       "Kansas                     24108\n",
       "Missouri                   24108\n",
       "Maryland                   24108\n",
       "Virginia                   24108\n",
       "Kentucky                   24108\n",
       "Montana                    24108\n",
       "Alaska                     24108\n",
       "Wisconsin                  24108\n",
       "Arizona                    24026\n",
       "West Virginia              16072\n",
       "Oklahoma                   16072\n",
       "Idaho                      16072\n",
       "Connecticut                16072\n",
       "North Dakota               16072\n",
       "South Carolina             16072\n",
       "New Jersey                 16072\n",
       "Arkansas                   16072\n",
       "Minnesota                  16072\n",
       "Wyoming                    16072\n",
       "Maine                      16072\n",
       "Nevada                     16072\n",
       "Mississippi                16072\n",
       "District of Columbia       16072\n",
       "Iowa                       16072\n",
       "South Dakota               16072\n",
       "New Hampshire               8036\n",
       "Massachusetts               8036\n",
       "Rhode Island                8036\n",
       "Vermont                     8036\n",
       "Hawaii                      8036\n",
       "New Mexico                  8036\n",
       "Utah                        8036\n",
       "Additional Territories      6787\n",
       "Delaware                    5751\n",
       "Name: State_of_outlet, dtype: int64"
      ]
     },
     "execution_count": 17,
     "metadata": {},
     "output_type": "execute_result"
    }
   ],
   "source": [
    "df1['State_of_outlet'].value_counts()"
   ]
  },
  {
   "cell_type": "code",
   "execution_count": 18,
   "metadata": {},
   "outputs": [
    {
     "data": {
      "text/plain": [
       "US                   1267301\n",
       "Canada                 71788\n",
       "China                  40185\n",
       "Australia              40185\n",
       "India                  32148\n",
       "                      ...   \n",
       "Guyana                  5065\n",
       "Israel                  4641\n",
       "Burundi                 4543\n",
       "Georgia                 4378\n",
       "Serbia-Montenegro       3427\n",
       "Name: Country, Length: 125, dtype: int64"
      ]
     },
     "execution_count": 18,
     "metadata": {},
     "output_type": "execute_result"
    }
   ],
   "source": [
    "df1['Country'].value_counts()"
   ]
  },
  {
   "cell_type": "code",
   "execution_count": 19,
   "metadata": {},
   "outputs": [
    {
     "data": {
      "text/plain": [
       "Springfield      16072\n",
       "Washington       16072\n",
       "Washington DC    16072\n",
       "Portland         16072\n",
       "Charleston       16072\n",
       "                 ...  \n",
       "Frankfurt         4136\n",
       "Flagstaff         3574\n",
       "Pristina          3427\n",
       "Yerevan           3226\n",
       "Bonn              3133\n",
       "Name: City_of_outlet, Length: 321, dtype: int64"
      ]
     },
     "execution_count": 19,
     "metadata": {},
     "output_type": "execute_result"
    }
   ],
   "source": [
    "df1['City_of_outlet'].value_counts()"
   ]
  },
  {
   "cell_type": "code",
   "execution_count": 20,
   "metadata": {},
   "outputs": [
    {
     "name": "stderr",
     "output_type": "stream",
     "text": [
      "/home/god/anaconda3/lib/python3.7/site-packages/ipykernel_launcher.py:4: SettingWithCopyWarning: \n",
      "A value is trying to be set on a copy of a slice from a DataFrame.\n",
      "Try using .loc[row_indexer,col_indexer] = value instead\n",
      "\n",
      "See the caveats in the documentation: http://pandas.pydata.org/pandas-docs/stable/user_guide/indexing.html#returning-a-view-versus-a-copy\n",
      "  after removing the cwd from sys.path.\n"
     ]
    }
   ],
   "source": [
    "from datetime import date\n",
    "\n",
    "df=df1[df1['Day']!=0]\n",
    "df['date']=pd.to_datetime(df[['Year','Month','Day']])\n"
   ]
  },
  {
   "cell_type": "code",
   "execution_count": 21,
   "metadata": {},
   "outputs": [
    {
     "data": {
      "text/plain": [
       "HQ                       0\n",
       "Country                  0\n",
       "State_of_outlet    1279787\n",
       "City_of_outlet           0\n",
       "Month                    0\n",
       "Day                      0\n",
       "Year                     0\n",
       "Total_Sales              0\n",
       "date                     0\n",
       "dtype: int64"
      ]
     },
     "execution_count": 21,
     "metadata": {},
     "output_type": "execute_result"
    }
   ],
   "source": [
    "df.isnull().sum()"
   ]
  },
  {
   "cell_type": "code",
   "execution_count": 22,
   "metadata": {},
   "outputs": [],
   "source": [
    "df=df.sort_values('date')"
   ]
  },
  {
   "cell_type": "code",
   "execution_count": 23,
   "metadata": {},
   "outputs": [],
   "source": [
    "df.date=pd.DatetimeIndex(df.date)"
   ]
  },
  {
   "cell_type": "code",
   "execution_count": 24,
   "metadata": {},
   "outputs": [],
   "source": [
    "df.drop(columns=['HQ','Country','State_of_outlet','City_of_outlet','Month','Day','Year'],inplace=True)"
   ]
  },
  {
   "cell_type": "code",
   "execution_count": 25,
   "metadata": {},
   "outputs": [],
   "source": [
    "df=df.groupby('date').mean()"
   ]
  },
  {
   "cell_type": "code",
   "execution_count": 26,
   "metadata": {},
   "outputs": [
    {
     "name": "stderr",
     "output_type": "stream",
     "text": [
      "/home/god/anaconda3/lib/python3.7/site-packages/pandas/plotting/_matplotlib/converter.py:103: FutureWarning: Using an implicitly registered datetime converter for a matplotlib plotting method. The converter was registered by pandas on import. Future versions of pandas will require you to explicitly register matplotlib converters.\n",
      "\n",
      "To register the converters:\n",
      "\t>>> from pandas.plotting import register_matplotlib_converters\n",
      "\t>>> register_matplotlib_converters()\n",
      "  warnings.warn(msg, FutureWarning)\n"
     ]
    },
    {
     "data": {
      "image/png": "[encoded data removed]",
      "text/plain": [
       "<Figure size 1080x720 with 1 Axes>"
      ]
     },
     "metadata": {
      "needs_background": "light"
     },
     "output_type": "display_data"
    }
   ],
   "source": [
    "plt.figure(figsize=(15,10))\n",
    "plt.plot(df['Total_Sales'])\n",
    "plt.title('sales average')\n",
    "plt.xlabel('time---->')\n",
    "plt.ylabel('sales--->')\n",
    "plt.show()"
   ]
  },
  {
   "cell_type": "code",
   "execution_count": 27,
   "metadata": {},
   "outputs": [],
   "source": [
    "sales=df.filter(['Total_Sales'])"
   ]
  },
  {
   "cell_type": "code",
   "execution_count": 28,
   "metadata": {},
   "outputs": [],
   "source": [
    "sales=sales.values"
   ]
  },
  {
   "cell_type": "code",
   "execution_count": 29,
   "metadata": {},
   "outputs": [],
   "source": [
    "training_data_length=math.ceil(len(sales)*0.8)"
   ]
  },
  {
   "cell_type": "code",
   "execution_count": 30,
   "metadata": {},
   "outputs": [],
   "source": [
    "mms=MinMaxScaler(feature_range=(0, 1))"
   ]
  },
  {
   "cell_type": "code",
   "execution_count": 31,
   "metadata": {},
   "outputs": [],
   "source": [
    "scaled_sales=mms.fit_transform(sales)"
   ]
  },
  {
   "cell_type": "code",
   "execution_count": 32,
   "metadata": {},
   "outputs": [],
   "source": [
    "training_data=scaled_sales[0:training_data_length,:]"
   ]
  },
  {
   "cell_type": "code",
   "execution_count": 33,
   "metadata": {},
   "outputs": [
    {
     "data": {
      "text/plain": [
       "6429"
      ]
     },
     "execution_count": 33,
     "metadata": {},
     "output_type": "execute_result"
    }
   ],
   "source": [
    "len(training_data)"
   ]
  },
  {
   "cell_type": "code",
   "execution_count": 34,
   "metadata": {},
   "outputs": [],
   "source": [
    "X_train=[]\n",
    "y_train=[]\n",
    "k=30"
   ]
  },
  {
   "cell_type": "code",
   "execution_count": 35,
   "metadata": {},
   "outputs": [],
   "source": [
    "for i in range(k ,len(training_data)):\n",
    "    X_train.append(training_data[i-k:i,0])\n",
    "    y_train.append(training_data[i,0])"
   ]
  },
  {
   "cell_type": "code",
   "execution_count": 36,
   "metadata": {},
   "outputs": [],
   "source": [
    "X_train,y_train=np.array(X_train),np.array(y_train)"
   ]
  },
  {
   "cell_type": "code",
   "execution_count": 37,
   "metadata": {},
   "outputs": [],
   "source": [
    "X_train=np.reshape(X_train,(X_train.shape[0],X_train.shape[1],1))"
   ]
  },
  {
   "cell_type": "code",
   "execution_count": 38,
   "metadata": {},
   "outputs": [],
   "source": [
    "import tensorflow"
   ]
  },
  {
   "cell_type": "code",
   "execution_count": 39,
   "metadata": {},
   "outputs": [],
   "source": [
    "from tensorflow.keras.models import Sequential\n",
    "from tensorflow.keras.layers import Dense\n",
    "from tensorflow.keras.layers import LSTM"
   ]
  },
  {
   "cell_type": "code",
   "execution_count": 40,
   "metadata": {},
   "outputs": [],
   "source": [
    "model = Sequential()"
   ]
  },
  {
   "cell_type": "code",
   "execution_count": 41,
   "metadata": {},
   "outputs": [
    {
     "name": "stdout",
     "output_type": "stream",
     "text": [
      "WARNING:tensorflow:From /home/god/anaconda3/lib/python3.7/site-packages/tensorflow_core/python/ops/resource_variable_ops.py:1630: calling BaseResourceVariable.__init__ (from tensorflow.python.ops.resource_variable_ops) with constraint is deprecated and will be removed in a future version.\n",
      "Instructions for updating:\n",
      "If using Keras pass *_constraint arguments to layers.\n"
     ]
    }
   ],
   "source": [
    "model.add(LSTM(units = 50, return_sequences = True, input_shape = (X_train.shape[1], 1)))\n",
    "model.add(LSTM(units = 50, return_sequences = True))\n",
    "model.add(LSTM(units = 50, return_sequences = True))\n",
    "model.add(LSTM(units = 50, return_sequences = True))\n",
    "model.add(LSTM(units = 50, return_sequences = True))\n",
    "model.add(LSTM(units = 50, return_sequences = True))\n",
    "model.add(LSTM(units = 50))"
   ]
  },
  {
   "cell_type": "code",
   "execution_count": 42,
   "metadata": {},
   "outputs": [],
   "source": [
    "model.add(Dense(units = 1))"
   ]
  },
  {
   "cell_type": "code",
   "execution_count": 43,
   "metadata": {},
   "outputs": [],
   "source": [
    "model.compile(optimizer = 'adam', loss = 'mean_squared_error')"
   ]
  },
  {
   "cell_type": "code",
   "execution_count": 44,
   "metadata": {},
   "outputs": [
    {
     "name": "stdout",
     "output_type": "stream",
     "text": [
      "WARNING:tensorflow:From /home/god/anaconda3/lib/python3.7/site-packages/tensorflow_core/python/ops/math_grad.py:1424: where (from tensorflow.python.ops.array_ops) is deprecated and will be removed in a future version.\n",
      "Instructions for updating:\n",
      "Use tf.where in 2.0, which has the same broadcast rule as np.where\n",
      "Train on 6399 samples\n",
      "Epoch 1/50\n",
      "6399/6399 [==============================] - 15s 2ms/sample - loss: 0.0745\n",
      "Epoch 2/50\n",
      "6399/6399 [==============================] - 8s 1ms/sample - loss: 0.0044\n",
      "Epoch 3/50\n",
      "6399/6399 [==============================] - 9s 1ms/sample - loss: 0.0040\n",
      "Epoch 4/50\n",
      "6399/6399 [==============================] - 8s 1ms/sample - loss: 0.0036\n",
      "Epoch 5/50\n",
      "6399/6399 [==============================] - 8s 1ms/sample - loss: 0.0029\n",
      "Epoch 6/50\n",
      "6399/6399 [==============================] - 8s 1ms/sample - loss: 0.0026\n",
      "Epoch 7/50\n",
      "6399/6399 [==============================] - 8s 1ms/sample - loss: 0.0024\n",
      "Epoch 8/50\n",
      "6399/6399 [==============================] - 8s 1ms/sample - loss: 0.0027\n",
      "Epoch 9/50\n",
      "6399/6399 [==============================] - 8s 1ms/sample - loss: 0.0025\n",
      "Epoch 10/50\n",
      "6399/6399 [==============================] - 8s 1ms/sample - loss: 0.0027\n",
      "Epoch 11/50\n",
      "6399/6399 [==============================] - 8s 1ms/sample - loss: 0.0025\n",
      "Epoch 12/50\n",
      "6399/6399 [==============================] - 8s 1ms/sample - loss: 0.0024\n",
      "Epoch 13/50\n",
      "6399/6399 [==============================] - 9s 1ms/sample - loss: 0.0024\n",
      "Epoch 14/50\n",
      "6399/6399 [==============================] - 8s 1ms/sample - loss: 0.0025\n",
      "Epoch 15/50\n",
      "6399/6399 [==============================] - 8s 1ms/sample - loss: 0.0025\n",
      "Epoch 16/50\n",
      "6399/6399 [==============================] - 8s 1ms/sample - loss: 0.0026\n",
      "Epoch 17/50\n",
      "6399/6399 [==============================] - 8s 1ms/sample - loss: 0.0026\n",
      "Epoch 18/50\n",
      "6399/6399 [==============================] - 8s 1ms/sample - loss: 0.0025\n",
      "Epoch 19/50\n",
      "6399/6399 [==============================] - 8s 1ms/sample - loss: 0.0025\n",
      "Epoch 20/50\n",
      "6399/6399 [==============================] - 8s 1ms/sample - loss: 0.0028\n",
      "Epoch 21/50\n",
      "6399/6399 [==============================] - 8s 1ms/sample - loss: 0.0024\n",
      "Epoch 22/50\n",
      "6399/6399 [==============================] - 8s 1ms/sample - loss: 0.0024\n",
      "Epoch 23/50\n",
      "6399/6399 [==============================] - 8s 1ms/sample - loss: 0.0024\n",
      "Epoch 24/50\n",
      "6399/6399 [==============================] - 8s 1ms/sample - loss: 0.0024\n",
      "Epoch 25/50\n",
      "6399/6399 [==============================] - 8s 1ms/sample - loss: 0.0024\n",
      "Epoch 26/50\n",
      "6399/6399 [==============================] - 8s 1ms/sample - loss: 0.0023\n",
      "Epoch 27/50\n",
      "6399/6399 [==============================] - 8s 1ms/sample - loss: 0.0025\n",
      "Epoch 28/50\n",
      "6399/6399 [==============================] - 8s 1ms/sample - loss: 0.0025\n",
      "Epoch 29/50\n",
      "6399/6399 [==============================] - 8s 1ms/sample - loss: 0.0023\n",
      "Epoch 30/50\n",
      "6399/6399 [==============================] - 8s 1ms/sample - loss: 0.0023\n",
      "Epoch 31/50\n",
      "6399/6399 [==============================] - 9s 1ms/sample - loss: 0.0023\n",
      "Epoch 32/50\n",
      "6399/6399 [==============================] - 9s 1ms/sample - loss: 0.0024\n",
      "Epoch 33/50\n",
      "6399/6399 [==============================] - 8s 1ms/sample - loss: 0.0022\n",
      "Epoch 34/50\n",
      "6399/6399 [==============================] - 8s 1ms/sample - loss: 0.0024\n",
      "Epoch 35/50\n",
      "6399/6399 [==============================] - 8s 1ms/sample - loss: 0.0022\n",
      "Epoch 36/50\n",
      "6399/6399 [==============================] - 8s 1ms/sample - loss: 0.0022\n",
      "Epoch 37/50\n",
      "6399/6399 [==============================] - 8s 1ms/sample - loss: 0.0025\n",
      "Epoch 38/50\n",
      "6399/6399 [==============================] - 8s 1ms/sample - loss: 0.0021\n",
      "Epoch 39/50\n",
      "6399/6399 [==============================] - 8s 1ms/sample - loss: 0.0022\n",
      "Epoch 40/50\n",
      "6399/6399 [==============================] - 8s 1ms/sample - loss: 0.0022\n",
      "Epoch 41/50\n",
      "6399/6399 [==============================] - 8s 1ms/sample - loss: 0.0022\n",
      "Epoch 42/50\n",
      "6399/6399 [==============================] - 8s 1ms/sample - loss: 0.0021\n",
      "Epoch 43/50\n",
      "6399/6399 [==============================] - 9s 1ms/sample - loss: 0.0023\n",
      "Epoch 44/50\n",
      "6399/6399 [==============================] - 8s 1ms/sample - loss: 0.0021\n",
      "Epoch 45/50\n",
      "6399/6399 [==============================] - 8s 1ms/sample - loss: 0.0021\n",
      "Epoch 46/50\n",
      "6399/6399 [==============================] - 8s 1ms/sample - loss: 0.0021\n",
      "Epoch 47/50\n",
      "6399/6399 [==============================] - 8s 1ms/sample - loss: 0.0022\n",
      "Epoch 48/50\n",
      "6399/6399 [==============================] - 8s 1ms/sample - loss: 0.0021\n",
      "Epoch 49/50\n",
      "6399/6399 [==============================] - 8s 1ms/sample - loss: 0.0021\n",
      "Epoch 50/50\n",
      "6399/6399 [==============================] - 8s 1ms/sample - loss: 0.0021\n"
     ]
    },
    {
     "data": {
      "text/plain": [
       "<tensorflow.python.keras.callbacks.History at 0x7f65962e6fd0>"
      ]
     },
     "execution_count": 44,
     "metadata": {},
     "output_type": "execute_result"
    }
   ],
   "source": [
    "model.fit(X_train, y_train, epochs = 50, batch_size = 100)"
   ]
  },
  {
   "cell_type": "code",
   "execution_count": 45,
   "metadata": {},
   "outputs": [],
   "source": [
    "test_data=scaled_sales[training_data_length-k:,:]"
   ]
  },
  {
   "cell_type": "code",
   "execution_count": 46,
   "metadata": {},
   "outputs": [],
   "source": [
    "X_test=[]\n",
    "y_test=sales[training_data_length:,:]"
   ]
  },
  {
   "cell_type": "code",
   "execution_count": 47,
   "metadata": {},
   "outputs": [],
   "source": [
    "for i in range(k,len(test_data)):\n",
    "    X_test.append(test_data[i-k:i,0])"
   ]
  },
  {
   "cell_type": "code",
   "execution_count": 48,
   "metadata": {},
   "outputs": [],
   "source": [
    "X_test=np.array(X_test)"
   ]
  },
  {
   "cell_type": "code",
   "execution_count": 49,
   "metadata": {},
   "outputs": [],
   "source": [
    "X_test=np.reshape(X_test,(X_test.shape[0],X_test.shape[1],1))"
   ]
  },
  {
   "cell_type": "code",
   "execution_count": 50,
   "metadata": {},
   "outputs": [],
   "source": [
    "y_pred=model.predict(X_test)\n"
   ]
  },
  {
   "cell_type": "code",
   "execution_count": 51,
   "metadata": {},
   "outputs": [],
   "source": [
    "y_pred=mms.inverse_transform(y_pred)"
   ]
  },
  {
   "cell_type": "code",
   "execution_count": 52,
   "metadata": {},
   "outputs": [
    {
     "data": {
      "image/png": "[encoded data removed]",
      "text/plain": [
       "<Figure size 1080x360 with 1 Axes>"
      ]
     },
     "metadata": {
      "needs_background": "light"
     },
     "output_type": "display_data"
    }
   ],
   "source": [
    "plt.figure(figsize=(15,5))\n",
    "plt.plot(y_test, color = 'red', label = 'Actual  Sales Price',ls='--')\n",
    "plt.plot(y_pred, color = 'limegreen', label = 'Predicted  sales Price',ls='-')\n",
    "plt.title('sales Projection')\n",
    "plt.xlabel('Time in days')\n",
    "plt.ylabel('sales in USD ($)')\n",
    "plt.legend()\n",
    "plt.show()"
   ]
  },
  {
   "cell_type": "code",
   "execution_count": 53,
   "metadata": {},
   "outputs": [
    {
     "data": {
      "text/plain": [
       "1607"
      ]
     },
     "execution_count": 53,
     "metadata": {},
     "output_type": "execute_result"
    }
   ],
   "source": [
    "len(X_test)"
   ]
  },
  {
   "cell_type": "code",
   "execution_count": 54,
   "metadata": {},
   "outputs": [
    {
     "data": {
      "text/plain": [
       "1607"
      ]
     },
     "execution_count": 54,
     "metadata": {},
     "output_type": "execute_result"
    }
   ],
   "source": [
    "len(y_pred)"
   ]
  },
  {
   "cell_type": "code",
   "execution_count": 55,
   "metadata": {},
   "outputs": [],
   "source": [
    "pred_test=scaled_sales[len(scaled_sales)-len(pd.date_range(start=\"2017-01-01\",end=\"2020-12-31\"))-60:]"
   ]
  },
  {
   "cell_type": "code",
   "execution_count": 56,
   "metadata": {},
   "outputs": [],
   "source": [
    "pred=[]\n",
    "for i in range(k,len(pred_test)):\n",
    "    pred.append(pred_test[i-k:i,0])"
   ]
  },
  {
   "cell_type": "code",
   "execution_count": 57,
   "metadata": {},
   "outputs": [],
   "source": [
    "pred=np.array(pred)"
   ]
  },
  {
   "cell_type": "code",
   "execution_count": 58,
   "metadata": {},
   "outputs": [
    {
     "data": {
      "text/plain": [
       "1491"
      ]
     },
     "execution_count": 58,
     "metadata": {},
     "output_type": "execute_result"
    }
   ],
   "source": [
    "len(pred)"
   ]
  },
  {
   "cell_type": "code",
   "execution_count": 59,
   "metadata": {},
   "outputs": [
    {
     "data": {
      "text/plain": [
       "array([[0.86916329, 0.87395729, 0.86306367, ..., 0.83169763, 0.84199478,\n",
       "        0.84230502],\n",
       "       [0.87395729, 0.86306367, 0.8646906 , ..., 0.84199478, 0.84230502,\n",
       "        0.85446363],\n",
       "       [0.86306367, 0.8646906 , 0.85857806, ..., 0.84230502, 0.85446363,\n",
       "        0.86382081],\n",
       "       ...,\n",
       "       [0.86305795, 0.86168284, 0.84727022, ..., 0.84226737, 0.8412047 ,\n",
       "        0.83902535],\n",
       "       [0.86168284, 0.84727022, 0.84578711, ..., 0.8412047 , 0.83902535,\n",
       "        0.8361247 ],\n",
       "       [0.84727022, 0.84578711, 0.8432799 , ..., 0.83902535, 0.8361247 ,\n",
       "        0.8234247 ]])"
      ]
     },
     "execution_count": 59,
     "metadata": {},
     "output_type": "execute_result"
    }
   ],
   "source": [
    "pred"
   ]
  },
  {
   "cell_type": "code",
   "execution_count": 60,
   "metadata": {},
   "outputs": [],
   "source": [
    "prediction=model.predict(np.reshape(pred,(pred.shape[0],pred.shape[1],1)))"
   ]
  },
  {
   "cell_type": "code",
   "execution_count": 61,
   "metadata": {},
   "outputs": [],
   "source": [
    "prediction=mms.inverse_transform(prediction)"
   ]
  },
  {
   "cell_type": "code",
   "execution_count": 62,
   "metadata": {},
   "outputs": [
    {
     "data": {
      "image/png": "[encoded data removed]",
      "text/plain": [
       "<Figure size 1080x360 with 1 Axes>"
      ]
     },
     "metadata": {
      "needs_background": "light"
     },
     "output_type": "display_data"
    }
   ],
   "source": [
    "plt.figure(figsize=(15,5))\n",
    "plt.plot(prediction, color = 'red', label = 'predicted  Sales Price',ls='--')\n",
    "\n",
    "plt.title('sales Projection')\n",
    "plt.xlabel('Time in days')\n",
    "plt.ylabel('sales USD ($)')\n",
    "plt.legend()\n",
    "plt.show()"
   ]
  },
  {
   "cell_type": "code",
   "execution_count": 63,
   "metadata": {},
   "outputs": [
    {
     "data": {
      "text/plain": [
       "5.849694834943023"
      ]
     },
     "execution_count": 63,
     "metadata": {},
     "output_type": "execute_result"
    }
   ],
   "source": [
    "from sklearn.metrics import mean_squared_error\n",
    "np.sqrt(mean_squared_error(y_test, y_pred))"
   ]
  },
  {
   "cell_type": "code",
   "execution_count": 64,
   "metadata": {},
   "outputs": [
    {
     "data": {
      "text/plain": [
       "34.21892966195907"
      ]
     },
     "execution_count": 64,
     "metadata": {},
     "output_type": "execute_result"
    }
   ],
   "source": [
    "mean_squared_error(y_test, y_pred)"
   ]
  },
  {
   "cell_type": "code",
   "execution_count": 65,
   "metadata": {},
   "outputs": [],
   "source": [
    "r=pd.DataFrame()"
   ]
  },
  {
   "cell_type": "code",
   "execution_count": 66,
   "metadata": {},
   "outputs": [],
   "source": [
    "r['date']=pd.date_range(start=\"2017-01-01\",end=\"2020-12-31\")"
   ]
  },
  {
   "cell_type": "code",
   "execution_count": 67,
   "metadata": {},
   "outputs": [],
   "source": [
    "r['predictions']=prediction[:len(pd.date_range(start=\"2017-01-01\",end=\"2020-12-31\"))]"
   ]
  },
  {
   "cell_type": "code",
   "execution_count": 68,
   "metadata": {},
   "outputs": [
    {
     "data": {
      "text/html": [
       "<div>\n",
       "<style scoped>\n",
       "    .dataframe tbody tr th:only-of-type {\n",
       "        vertical-align: middle;\n",
       "    }\n",
       "\n",
       "    .dataframe tbody tr th {\n",
       "        vertical-align: top;\n",
       "    }\n",
       "\n",
       "    .dataframe thead th {\n",
       "        text-align: right;\n",
       "    }\n",
       "</style>\n",
       "<table border=\"1\" class=\"dataframe\">\n",
       "  <thead>\n",
       "    <tr style=\"text-align: right;\">\n",
       "      <th></th>\n",
       "      <th>date</th>\n",
       "      <th>predictions</th>\n",
       "    </tr>\n",
       "  </thead>\n",
       "  <tbody>\n",
       "    <tr>\n",
       "      <th>0</th>\n",
       "      <td>2017-01-01</td>\n",
       "      <td>48.799721</td>\n",
       "    </tr>\n",
       "    <tr>\n",
       "      <th>1</th>\n",
       "      <td>2017-01-02</td>\n",
       "      <td>48.432140</td>\n",
       "    </tr>\n",
       "    <tr>\n",
       "      <th>2</th>\n",
       "      <td>2017-01-03</td>\n",
       "      <td>48.197914</td>\n",
       "    </tr>\n",
       "    <tr>\n",
       "      <th>3</th>\n",
       "      <td>2017-01-04</td>\n",
       "      <td>48.147907</td>\n",
       "    </tr>\n",
       "    <tr>\n",
       "      <th>4</th>\n",
       "      <td>2017-01-05</td>\n",
       "      <td>48.267384</td>\n",
       "    </tr>\n",
       "    <tr>\n",
       "      <th>...</th>\n",
       "      <td>...</td>\n",
       "      <td>...</td>\n",
       "    </tr>\n",
       "    <tr>\n",
       "      <th>1456</th>\n",
       "      <td>2020-12-27</td>\n",
       "      <td>51.929981</td>\n",
       "    </tr>\n",
       "    <tr>\n",
       "      <th>1457</th>\n",
       "      <td>2020-12-28</td>\n",
       "      <td>51.462944</td>\n",
       "    </tr>\n",
       "    <tr>\n",
       "      <th>1458</th>\n",
       "      <td>2020-12-29</td>\n",
       "      <td>50.944832</td>\n",
       "    </tr>\n",
       "    <tr>\n",
       "      <th>1459</th>\n",
       "      <td>2020-12-30</td>\n",
       "      <td>50.479809</td>\n",
       "    </tr>\n",
       "    <tr>\n",
       "      <th>1460</th>\n",
       "      <td>2020-12-31</td>\n",
       "      <td>50.144543</td>\n",
       "    </tr>\n",
       "  </tbody>\n",
       "</table>\n",
       "<p>1461 rows × 2 columns</p>\n",
       "</div>"
      ],
      "text/plain": [
       "           date  predictions\n",
       "0    2017-01-01    48.799721\n",
       "1    2017-01-02    48.432140\n",
       "2    2017-01-03    48.197914\n",
       "3    2017-01-04    48.147907\n",
       "4    2017-01-05    48.267384\n",
       "...         ...          ...\n",
       "1456 2020-12-27    51.929981\n",
       "1457 2020-12-28    51.462944\n",
       "1458 2020-12-29    50.944832\n",
       "1459 2020-12-30    50.479809\n",
       "1460 2020-12-31    50.144543\n",
       "\n",
       "[1461 rows x 2 columns]"
      ]
     },
     "execution_count": 68,
     "metadata": {},
     "output_type": "execute_result"
    }
   ],
   "source": [
    "r"
   ]
  },
  {
   "cell_type": "code",
   "execution_count": 69,
   "metadata": {},
   "outputs": [],
   "source": [
    "r.to_csv('predicted.csv')"
   ]
  },
  {
   "cell_type": "code",
   "execution_count": 70,
   "metadata": {},
   "outputs": [
    {
     "data": {
      "text/plain": [
       "3.069809961146917"
      ]
     },
     "execution_count": 70,
     "metadata": {},
     "output_type": "execute_result"
    }
   ],
   "source": [
    "from sklearn.metrics import mean_absolute_error\n",
    "mean_absolute_error(y_test, y_pred)"
   ]
  },
  {
   "cell_type": "code",
   "execution_count": null,
   "metadata": {},
   "outputs": [],
   "source": []
  }
 ],
 "metadata": {
  "kernelspec": {
   "display_name": "Python 3",
   "language": "python",
   "name": "python3"
  },
  "language_info": {
   "codemirror_mode": {
    "name": "ipython",
    "version": 3
   },
   "file_extension": ".py",
   "mimetype": "text/x-python",
   "name": "python",
   "nbconvert_exporter": "python",
   "pygments_lexer": "ipython3",
   "version": "3.7.6"
  }
 },
 "nbformat": 4,
 "nbformat_minor": 4
}
